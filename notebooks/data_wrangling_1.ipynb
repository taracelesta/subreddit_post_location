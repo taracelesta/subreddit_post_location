{
 "cells": [
  {
   "cell_type": "markdown",
   "metadata": {},
   "source": [
    "# Bushcraft vs Witchcraft\n",
    "## Data wrangling/gathering/acquisition"
   ]
  },
  {
   "cell_type": "code",
   "execution_count": 1,
   "metadata": {},
   "outputs": [],
   "source": [
    "import praw\n",
    "import pandas as pd\n",
    "import requests\n",
    "import json\n",
    "import csv\n",
    "import time\n",
    "import datetime as dt\n",
    "import pprint"
   ]
  },
  {
   "cell_type": "markdown",
   "metadata": {},
   "source": [
    "## Providing credentials so I can use the wrapper"
   ]
  },
  {
   "cell_type": "code",
   "execution_count": 2,
   "metadata": {},
   "outputs": [],
   "source": [
    "reddit = praw.Reddit(client_id = 'f85eOQNibO7RXA',     \n",
    "                     client_secret = 'AqnmTl85SUt9lcKRXD-BtlnnoQ8', \n",
    "                     user_agent = 'project_3',    \n",
    "                     username = 'Vegetable_Reference4',     \n",
    "                     password = '6060isis')      "
   ]
  },
  {
   "cell_type": "markdown",
   "metadata": {},
   "source": [
    "## Creating variable names for the subreddits I want to pull from"
   ]
  },
  {
   "cell_type": "code",
   "execution_count": 3,
   "metadata": {},
   "outputs": [],
   "source": [
    "subreddit = reddit.subreddit('Spells')"
   ]
  },
  {
   "cell_type": "code",
   "execution_count": 4,
   "metadata": {},
   "outputs": [],
   "source": [
    "altsubreddit = reddit.subreddit('Survival')"
   ]
  },
  {
   "cell_type": "markdown",
   "metadata": {},
   "source": [
    "## Spells Data Gathering:\n"
   ]
  },
  {
   "cell_type": "code",
   "execution_count": 5,
   "metadata": {},
   "outputs": [],
   "source": [
    "spellsnew = subreddit.new(limit = 1000)\n",
    "spellshot = subreddit.hot(limit = 1000)\n",
    "spellstop = subreddit.top(limit = 1000)\n",
    "spellscont = subreddit.controversial(limit = 1000)"
   ]
  },
  {
   "cell_type": "markdown",
   "metadata": {},
   "source": [
    "#### Spells new"
   ]
  },
  {
   "cell_type": "code",
   "execution_count": 6,
   "metadata": {},
   "outputs": [],
   "source": [
    "spells_new = { \"title\":[],\n",
    "                \"score\":[],\n",
    "                \"id\":[],\n",
    "                \"url\":[], \n",
    "                \"comms_num\": [],\n",
    "                \"created\": [],\n",
    "                \"body\":[]}\n",
    "\n",
    "for item in spellsnew:\n",
    "    spells_new[\"title\"].append(item.title)\n",
    "    spells_new[\"score\"].append(item.score)\n",
    "    spells_new[\"id\"].append(item.id)\n",
    "    spells_new[\"url\"].append(item.url)\n",
    "    spells_new[\"comms_num\"].append(item.num_comments)\n",
    "    spells_new[\"created\"].append(item.created)\n",
    "    spells_new[\"body\"].append(item.selftext)"
   ]
  },
  {
   "cell_type": "code",
   "execution_count": 8,
   "metadata": {},
   "outputs": [
    {
     "data": {
      "text/plain": [
       "(960, 7)"
      ]
     },
     "execution_count": 8,
     "metadata": {},
     "output_type": "execute_result"
    }
   ],
   "source": [
    "df_spells_new = pd.DataFrame(spells_new)\n",
    "df_spells_new.shape"
   ]
  },
  {
   "cell_type": "markdown",
   "metadata": {},
   "source": [
    "#### Spells hot"
   ]
  },
  {
   "cell_type": "code",
   "execution_count": 9,
   "metadata": {},
   "outputs": [],
   "source": [
    "spells_hot = { \"title\":[],\n",
    "                \"score\":[],\n",
    "                \"id\":[],\n",
    "                \"url\":[], \n",
    "                \"comms_num\": [],\n",
    "                \"created\": [],\n",
    "                \"body\":[]}\n",
    "\n",
    "for item in spellshot:\n",
    "    spells_hot[\"title\"].append(item.title)\n",
    "    spells_hot[\"score\"].append(item.score)\n",
    "    spells_hot[\"id\"].append(item.id)\n",
    "    spells_hot[\"url\"].append(item.url)\n",
    "    spells_hot[\"comms_num\"].append(item.num_comments)\n",
    "    spells_hot[\"created\"].append(item.created)\n",
    "    spells_hot[\"body\"].append(item.selftext)"
   ]
  },
  {
   "cell_type": "code",
   "execution_count": 10,
   "metadata": {},
   "outputs": [
    {
     "data": {
      "text/plain": [
       "(964, 7)"
      ]
     },
     "execution_count": 10,
     "metadata": {},
     "output_type": "execute_result"
    }
   ],
   "source": [
    "df_spells_hot = pd.DataFrame(spells_hot)\n",
    "df_spells_hot.shape"
   ]
  },
  {
   "cell_type": "markdown",
   "metadata": {},
   "source": [
    "#### Spells top"
   ]
  },
  {
   "cell_type": "code",
   "execution_count": 11,
   "metadata": {},
   "outputs": [],
   "source": [
    "spells_top = { \"title\":[],\n",
    "                \"score\":[],\n",
    "                \"id\":[],\n",
    "                \"url\":[], \n",
    "                \"comms_num\": [],\n",
    "                \"created\": [],\n",
    "                \"body\":[]}\n",
    "\n",
    "for item in spellstop:\n",
    "    spells_top[\"title\"].append(item.title)\n",
    "    spells_top[\"score\"].append(item.score)\n",
    "    spells_top[\"id\"].append(item.id)\n",
    "    spells_top[\"url\"].append(item.url)\n",
    "    spells_top[\"comms_num\"].append(item.num_comments)\n",
    "    spells_top[\"created\"].append(item.created)\n",
    "    spells_top['body'].append(item.selftext)"
   ]
  },
  {
   "cell_type": "code",
   "execution_count": 12,
   "metadata": {},
   "outputs": [
    {
     "data": {
      "text/plain": [
       "(1000, 7)"
      ]
     },
     "execution_count": 12,
     "metadata": {},
     "output_type": "execute_result"
    }
   ],
   "source": [
    "df_spells_top = pd.DataFrame(spells_top)\n",
    "df_spells_top.shape"
   ]
  },
  {
   "cell_type": "markdown",
   "metadata": {},
   "source": [
    "#### Spells controversial"
   ]
  },
  {
   "cell_type": "code",
   "execution_count": 13,
   "metadata": {},
   "outputs": [],
   "source": [
    "spells_cont = { \"title\":[],\n",
    "                \"score\":[],\n",
    "                \"id\":[],\n",
    "                \"url\":[], \n",
    "                \"comms_num\": [],\n",
    "                \"created\": [],\n",
    "                \"body\":[]}\n",
    "\n",
    "for item in spellscont:\n",
    "    spells_cont[\"title\"].append(item.title)\n",
    "    spells_cont[\"score\"].append(item.score)\n",
    "    spells_cont[\"id\"].append(item.id)\n",
    "    spells_cont[\"url\"].append(item.url)\n",
    "    spells_cont[\"comms_num\"].append(item.num_comments)\n",
    "    spells_cont[\"created\"].append(item.created)\n",
    "    spells_cont[\"body\"].append(item.selftext)"
   ]
  },
  {
   "cell_type": "code",
   "execution_count": 14,
   "metadata": {},
   "outputs": [
    {
     "data": {
      "text/plain": [
       "(961, 7)"
      ]
     },
     "execution_count": 14,
     "metadata": {},
     "output_type": "execute_result"
    }
   ],
   "source": [
    "df_spells_cont = pd.DataFrame(spells_cont)\n",
    "df_spells_cont.shape"
   ]
  },
  {
   "cell_type": "markdown",
   "metadata": {},
   "source": [
    "#### Merging spells and droping duplicates"
   ]
  },
  {
   "cell_type": "code",
   "execution_count": 15,
   "metadata": {},
   "outputs": [],
   "source": [
    "df_all_spells = pd.concat([df_spells_new, df_spells_hot, df_spells_top, df_spells_cont])"
   ]
  },
  {
   "cell_type": "code",
   "execution_count": 16,
   "metadata": {},
   "outputs": [
    {
     "data": {
      "text/plain": [
       "(3885, 7)"
      ]
     },
     "execution_count": 16,
     "metadata": {},
     "output_type": "execute_result"
    }
   ],
   "source": [
    "df_all_spells.shape"
   ]
  },
  {
   "cell_type": "code",
   "execution_count": 17,
   "metadata": {},
   "outputs": [],
   "source": [
    "df_all_spells.drop_duplicates(inplace = True)"
   ]
  },
  {
   "cell_type": "code",
   "execution_count": 18,
   "metadata": {},
   "outputs": [
    {
     "data": {
      "text/plain": [
       "(2260, 7)"
      ]
     },
     "execution_count": 18,
     "metadata": {},
     "output_type": "execute_result"
    }
   ],
   "source": [
    "df_all_spells.shape"
   ]
  },
  {
   "cell_type": "markdown",
   "metadata": {},
   "source": [
    "#### Adding a column to dataframe to keep track of which subreddit the data is from"
   ]
  },
  {
   "cell_type": "code",
   "execution_count": 19,
   "metadata": {},
   "outputs": [],
   "source": [
    "df_all_spells['subreddit']= 'spells'"
   ]
  },
  {
   "cell_type": "markdown",
   "metadata": {},
   "source": [
    "## Survival Data Gathering:"
   ]
  },
  {
   "cell_type": "code",
   "execution_count": 20,
   "metadata": {},
   "outputs": [],
   "source": [
    "survivalnew = altsubreddit.new(limit = 1000)\n",
    "survivalhot = altsubreddit.hot(limit = 1000)\n",
    "survivaltop = altsubreddit.top(limit = 1000)\n",
    "survivalcont = altsubreddit.controversial(limit = 1000)"
   ]
  },
  {
   "cell_type": "markdown",
   "metadata": {},
   "source": [
    "#### Survival new"
   ]
  },
  {
   "cell_type": "code",
   "execution_count": 21,
   "metadata": {},
   "outputs": [],
   "source": [
    "survival_new = { \"title\":[],\n",
    "                \"score\":[],\n",
    "                \"id\":[],\n",
    "                \"url\":[], \n",
    "                \"comms_num\": [],\n",
    "                \"created\": [],\n",
    "                \"body\":[]}\n",
    "\n",
    "for item in survivalnew:\n",
    "    survival_new[\"title\"].append(item.title)\n",
    "    survival_new[\"score\"].append(item.score)\n",
    "    survival_new[\"id\"].append(item.id)\n",
    "    survival_new[\"url\"].append(item.url)\n",
    "    survival_new[\"comms_num\"].append(item.num_comments)\n",
    "    survival_new[\"created\"].append(item.created)\n",
    "    survival_new[\"body\"].append(item.selftext)"
   ]
  },
  {
   "cell_type": "code",
   "execution_count": 22,
   "metadata": {},
   "outputs": [
    {
     "data": {
      "text/plain": [
       "(924, 7)"
      ]
     },
     "execution_count": 22,
     "metadata": {},
     "output_type": "execute_result"
    }
   ],
   "source": [
    "df_survival_new = pd.DataFrame(survival_new)\n",
    "df_survival_new.shape"
   ]
  },
  {
   "cell_type": "markdown",
   "metadata": {},
   "source": [
    "#### Survival hot"
   ]
  },
  {
   "cell_type": "code",
   "execution_count": 23,
   "metadata": {},
   "outputs": [],
   "source": [
    "survival_hot = { \"title\":[],\n",
    "                \"score\":[],\n",
    "                \"id\":[],\n",
    "                \"url\":[], \n",
    "                \"comms_num\": [],\n",
    "                \"created\": [],\n",
    "                \"body\":[]}\n",
    "\n",
    "for item in survivalhot:\n",
    "    survival_hot[\"title\"].append(item.title)\n",
    "    survival_hot[\"score\"].append(item.score)\n",
    "    survival_hot[\"id\"].append(item.id)\n",
    "    survival_hot[\"url\"].append(item.url)\n",
    "    survival_hot[\"comms_num\"].append(item.num_comments)\n",
    "    survival_hot[\"created\"].append(item.created)\n",
    "    survival_hot[\"body\"].append(item.selftext)"
   ]
  },
  {
   "cell_type": "code",
   "execution_count": 24,
   "metadata": {},
   "outputs": [
    {
     "data": {
      "text/plain": [
       "(966, 7)"
      ]
     },
     "execution_count": 24,
     "metadata": {},
     "output_type": "execute_result"
    }
   ],
   "source": [
    "df_survival_hot = pd.DataFrame(survival_hot)\n",
    "df_survival_hot.shape"
   ]
  },
  {
   "cell_type": "markdown",
   "metadata": {},
   "source": [
    "#### Survival top"
   ]
  },
  {
   "cell_type": "code",
   "execution_count": 25,
   "metadata": {},
   "outputs": [],
   "source": [
    "survival_top = { \"title\":[],\n",
    "                \"score\":[],\n",
    "                \"id\":[],\n",
    "                \"url\":[], \n",
    "                \"comms_num\": [],\n",
    "                \"created\": [],\n",
    "                \"body\":[]}\n",
    "\n",
    "for item in survivaltop:\n",
    "    survival_top[\"title\"].append(item.title)\n",
    "    survival_top[\"score\"].append(item.score)\n",
    "    survival_top[\"id\"].append(item.id)\n",
    "    survival_top[\"url\"].append(item.url)\n",
    "    survival_top[\"comms_num\"].append(item.num_comments)\n",
    "    survival_top[\"created\"].append(item.created)\n",
    "    survival_top[\"body\"].append(item.selftext)"
   ]
  },
  {
   "cell_type": "code",
   "execution_count": 26,
   "metadata": {},
   "outputs": [
    {
     "data": {
      "text/plain": [
       "(990, 7)"
      ]
     },
     "execution_count": 26,
     "metadata": {},
     "output_type": "execute_result"
    }
   ],
   "source": [
    "df_survival_top = pd.DataFrame(survival_top)\n",
    "df_survival_top.shape"
   ]
  },
  {
   "cell_type": "markdown",
   "metadata": {},
   "source": [
    "#### Survival Controversial"
   ]
  },
  {
   "cell_type": "code",
   "execution_count": 27,
   "metadata": {},
   "outputs": [],
   "source": [
    "survival_cont = { \"title\":[],\n",
    "                \"score\":[],\n",
    "                \"id\":[],\n",
    "                \"url\":[], \n",
    "                \"comms_num\": [],\n",
    "                \"created\": [],\n",
    "                \"body\":[]}\n",
    "\n",
    "for item in survivalcont:\n",
    "    survival_cont[\"title\"].append(item.title)\n",
    "    survival_cont[\"score\"].append(item.score)\n",
    "    survival_cont[\"id\"].append(item.id)\n",
    "    survival_cont[\"url\"].append(item.url)\n",
    "    survival_cont[\"comms_num\"].append(item.num_comments)\n",
    "    survival_cont[\"created\"].append(item.created)\n",
    "    survival_cont[\"body\"].append(item.selftext)"
   ]
  },
  {
   "cell_type": "code",
   "execution_count": 28,
   "metadata": {},
   "outputs": [
    {
     "data": {
      "text/plain": [
       "(994, 7)"
      ]
     },
     "execution_count": 28,
     "metadata": {},
     "output_type": "execute_result"
    }
   ],
   "source": [
    "df_survival_cont = pd.DataFrame(survival_cont)\n",
    "df_survival_cont.shape"
   ]
  },
  {
   "cell_type": "markdown",
   "metadata": {},
   "source": [
    "#### Merging survival and droping duplicates"
   ]
  },
  {
   "cell_type": "code",
   "execution_count": 29,
   "metadata": {},
   "outputs": [],
   "source": [
    "df_all_survival = pd.concat([df_survival_new, df_survival_hot, df_survival_top, df_survival_cont])"
   ]
  },
  {
   "cell_type": "code",
   "execution_count": 30,
   "metadata": {},
   "outputs": [],
   "source": [
    "df_all_survival.drop_duplicates(inplace =True)"
   ]
  },
  {
   "cell_type": "code",
   "execution_count": 31,
   "metadata": {},
   "outputs": [
    {
     "data": {
      "text/plain": [
       "(3441, 7)"
      ]
     },
     "execution_count": 31,
     "metadata": {},
     "output_type": "execute_result"
    }
   ],
   "source": [
    "df_all_survival.shape"
   ]
  },
  {
   "cell_type": "markdown",
   "metadata": {},
   "source": [
    "#### Adding a column to dataframe to keep track of which subreddit the data is from"
   ]
  },
  {
   "cell_type": "code",
   "execution_count": 32,
   "metadata": {},
   "outputs": [],
   "source": [
    "df_all_survival['subreddit']= 'survival'"
   ]
  },
  {
   "cell_type": "markdown",
   "metadata": {},
   "source": [
    "## Concatenating df_all dataframes together"
   ]
  },
  {
   "cell_type": "code",
   "execution_count": 33,
   "metadata": {},
   "outputs": [],
   "source": [
    "df_all = pd.concat([df_all_survival, df_all_spells])"
   ]
  },
  {
   "cell_type": "code",
   "execution_count": 34,
   "metadata": {},
   "outputs": [
    {
     "data": {
      "text/html": [
       "<div>\n",
       "<style scoped>\n",
       "    .dataframe tbody tr th:only-of-type {\n",
       "        vertical-align: middle;\n",
       "    }\n",
       "\n",
       "    .dataframe tbody tr th {\n",
       "        vertical-align: top;\n",
       "    }\n",
       "\n",
       "    .dataframe thead th {\n",
       "        text-align: right;\n",
       "    }\n",
       "</style>\n",
       "<table border=\"1\" class=\"dataframe\">\n",
       "  <thead>\n",
       "    <tr style=\"text-align: right;\">\n",
       "      <th></th>\n",
       "      <th>title</th>\n",
       "      <th>score</th>\n",
       "      <th>id</th>\n",
       "      <th>url</th>\n",
       "      <th>comms_num</th>\n",
       "      <th>created</th>\n",
       "      <th>body</th>\n",
       "      <th>subreddit</th>\n",
       "    </tr>\n",
       "  </thead>\n",
       "  <tbody>\n",
       "    <tr>\n",
       "      <th>0</th>\n",
       "      <td>Waterproofing matches</td>\n",
       "      <td>1</td>\n",
       "      <td>jeww70</td>\n",
       "      <td>https://www.reddit.com/r/Survival/comments/jew...</td>\n",
       "      <td>1</td>\n",
       "      <td>1.603251e+09</td>\n",
       "      <td>I have a very small youtube channel that revol...</td>\n",
       "      <td>survival</td>\n",
       "    </tr>\n",
       "    <tr>\n",
       "      <th>1</th>\n",
       "      <td>Great time working with Scotland 🏴󠁧󠁢󠁳󠁣󠁴󠁿 train...</td>\n",
       "      <td>451</td>\n",
       "      <td>jerhlw</td>\n",
       "      <td>https://www.reddit.com/gallery/jerhlw</td>\n",
       "      <td>14</td>\n",
       "      <td>1.603236e+09</td>\n",
       "      <td></td>\n",
       "      <td>survival</td>\n",
       "    </tr>\n",
       "    <tr>\n",
       "      <th>2</th>\n",
       "      <td>AMK/SOL now made in China</td>\n",
       "      <td>3</td>\n",
       "      <td>jej7o5</td>\n",
       "      <td>https://www.reddit.com/r/Survival/comments/jej...</td>\n",
       "      <td>3</td>\n",
       "      <td>1.603200e+09</td>\n",
       "      <td>I've been a longtime fan of Adventure Medical ...</td>\n",
       "      <td>survival</td>\n",
       "    </tr>\n",
       "    <tr>\n",
       "      <th>3</th>\n",
       "      <td>Longterm Waterproofing</td>\n",
       "      <td>0</td>\n",
       "      <td>jeieam</td>\n",
       "      <td>https://www.reddit.com/r/Survival/comments/jei...</td>\n",
       "      <td>2</td>\n",
       "      <td>1.603196e+09</td>\n",
       "      <td>Besides using something like flex seal, a chea...</td>\n",
       "      <td>survival</td>\n",
       "    </tr>\n",
       "    <tr>\n",
       "      <th>4</th>\n",
       "      <td>Scott Eyed Auger Drill. Why?</td>\n",
       "      <td>0</td>\n",
       "      <td>jeicso</td>\n",
       "      <td>https://www.reddit.com/r/Survival/comments/jei...</td>\n",
       "      <td>22</td>\n",
       "      <td>1.603196e+09</td>\n",
       "      <td>Why in the world would I want something like t...</td>\n",
       "      <td>survival</td>\n",
       "    </tr>\n",
       "  </tbody>\n",
       "</table>\n",
       "</div>"
      ],
      "text/plain": [
       "                                               title  score      id  \\\n",
       "0                              Waterproofing matches      1  jeww70   \n",
       "1  Great time working with Scotland 🏴󠁧󠁢󠁳󠁣󠁴󠁿 train...    451  jerhlw   \n",
       "2                          AMK/SOL now made in China      3  jej7o5   \n",
       "3                             Longterm Waterproofing      0  jeieam   \n",
       "4                       Scott Eyed Auger Drill. Why?      0  jeicso   \n",
       "\n",
       "                                                 url  comms_num       created  \\\n",
       "0  https://www.reddit.com/r/Survival/comments/jew...          1  1.603251e+09   \n",
       "1              https://www.reddit.com/gallery/jerhlw         14  1.603236e+09   \n",
       "2  https://www.reddit.com/r/Survival/comments/jej...          3  1.603200e+09   \n",
       "3  https://www.reddit.com/r/Survival/comments/jei...          2  1.603196e+09   \n",
       "4  https://www.reddit.com/r/Survival/comments/jei...         22  1.603196e+09   \n",
       "\n",
       "                                                body subreddit  \n",
       "0  I have a very small youtube channel that revol...  survival  \n",
       "1                                                     survival  \n",
       "2  I've been a longtime fan of Adventure Medical ...  survival  \n",
       "3  Besides using something like flex seal, a chea...  survival  \n",
       "4  Why in the world would I want something like t...  survival  "
      ]
     },
     "execution_count": 34,
     "metadata": {},
     "output_type": "execute_result"
    }
   ],
   "source": [
    "df_all.head()"
   ]
  },
  {
   "cell_type": "markdown",
   "metadata": {},
   "source": [
    "## Exporting Reddits as CSV"
   ]
  },
  {
   "cell_type": "code",
   "execution_count": 35,
   "metadata": {},
   "outputs": [],
   "source": [
    "df_all.to_csv('all_subreddits.csv', index = False)"
   ]
  }
 ],
 "metadata": {
  "kernelspec": {
   "display_name": "Python 3",
   "language": "python",
   "name": "python3"
  },
  "language_info": {
   "codemirror_mode": {
    "name": "ipython",
    "version": 3
   },
   "file_extension": ".py",
   "mimetype": "text/x-python",
   "name": "python",
   "nbconvert_exporter": "python",
   "pygments_lexer": "ipython3",
   "version": "3.7.6"
  }
 },
 "nbformat": 4,
 "nbformat_minor": 4
}
